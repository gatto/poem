{
 "cells": [
  {
   "cell_type": "code",
   "execution_count": null,
   "metadata": {},
   "outputs": [],
   "source": [
    "import logging\n",
    "\n",
    "logging.basicConfig(\n",
    "    filename=\"./data/mnist-oab-exp-seven-exp.log\",\n",
    "    filemode=\"a\",\n",
    "    format=\"%(asctime)s,%(msecs)d %(name)s %(levelname)s %(message)s\",\n",
    "    datefmt=\"%H:%M:%S\",\n",
    "    level=logging.INFO,\n",
    ")\n",
    "import pickle\n",
    "import oab\n",
    "import numpy as np\n",
    "from rich import print\n",
    "import matplotlib.pyplot as plt\n",
    "from collections import Counter\n",
    "\n",
    "(X_train, Y_train), (X_test, Y_test), (X_tree, Y_tree) = oab.get_data()\n",
    "my_dom = oab.Domain(\"mnist\", \"RF\")\n",
    "index = {}\n",
    "points = {}\n",
    "for my_class in range(10):\n",
    "    index[my_class] = np.where(Y_test == my_class)[0]\n",
    "my_dom.load()"
   ]
  },
  {
   "cell_type": "code",
   "execution_count": null,
   "metadata": {},
   "outputs": [],
   "source": [
    "my_class = 9\n",
    "# my_dom.explanation_base = my_dom.explanation_base[:500]\n",
    "print(len(my_dom.explanation_base))"
   ]
  },
  {
   "cell_type": "code",
   "execution_count": null,
   "metadata": {},
   "outputs": [],
   "source": [
    "print(\n",
    "    counting := Counter(\n",
    "        [point.blackboxpd.predicted_class for point in my_dom.explanation_base]\n",
    "    )\n",
    ")\n",
    "print(\n",
    "    f\"There are {len(index[my_class])} points with class {my_class} in the [bold red]test[/] set\"\n",
    ")\n",
    "print(\n",
    "    f\"There are {counting[str(my_class)]} images with the same class in the [bold blue]explanation base[/]\"\n",
    ")"
   ]
  },
  {
   "cell_type": "code",
   "execution_count": null,
   "metadata": {},
   "outputs": [],
   "source": [
    "for my_index in index[my_class]:\n",
    "    testpoint = oab.TestPoint(X_test[my_index], my_dom)\n",
    "    logging.info(f\"start explanation of index {my_index}\")\n",
    "    exp = oab.Explainer(testpoint, howmany=10)\n",
    "    try:\n",
    "        points[my_class].append(exp)\n",
    "    except KeyError:\n",
    "        points[my_class] = [exp]\n",
    "    print(\"nice\")\n",
    "    if len(points[my_class]) >= 1:\n",
    "        # how many points to do per class\n",
    "        break"
   ]
  },
  {
   "cell_type": "code",
   "execution_count": null,
   "metadata": {},
   "outputs": [],
   "source": [
    "print(f\"showing class {my_class}\")\n",
    "for explainer in points[my_class]:\n",
    "    print(\"for test\", explainer.testpoint.latent.a)\n",
    "    plt.imshow(explainer.testpoint.a.astype(\"uint8\"), cmap=\"gray\")\n",
    "    plt.title(\n",
    "        f\"TestPoint - black box predicted class: {explainer.testpoint.blackboxpd.predicted_class}\"\n",
    "    )\n",
    "    plt.show()\n",
    "\n",
    "    print(\"for treepoint\", explainer.target.latent.a)\n",
    "    plt.imshow(explainer.target.a.astype(\"uint8\"), cmap=\"gray\")\n",
    "    plt.title(\n",
    "        f\"TreePoint - black box predicted class: {explainer.target.blackboxpd.predicted_class}\"\n",
    "    )\n",
    "    plt.show()\n",
    "\n",
    "    print(\"counterrules\")\n",
    "    print(explainer.target.latentdt.counterrules)\n",
    "\n",
    "    print(\"for this target treepoint:\")\n",
    "    print(explainer.target)\n",
    "    print(\"# factuals\")\n",
    "    for point in explainer.factuals:\n",
    "        plt.imshow(point.a.astype(\"uint8\"), cmap=\"gray\")\n",
    "        plt.title(\n",
    "            f\"factual - black box predicted class: {point.blackboxpd.predicted_class}\"\n",
    "        )\n",
    "        plt.show()\n",
    "    print(\"## factuals BUT closest, instead of furthest\")\n",
    "    for point in explainer._factuals_default(closest=True):\n",
    "        plt.imshow(point.a.astype(\"uint8\"), cmap=\"gray\")\n",
    "        plt.title(\n",
    "            f\"factual - black box predicted class: {point.blackboxpd.predicted_class}\"\n",
    "        )\n",
    "        plt.show()\n",
    "    print(\"# counterfactuals\")\n",
    "    for point in explainer.counterfactuals:\n",
    "        plt.imshow(point.a.astype(\"uint8\"), cmap=\"gray\")\n",
    "        plt.title(\n",
    "            f\"counterfactual - black box predicted class: {point.blackboxpd.predicted_class}\"\n",
    "        )\n",
    "        plt.show()\n",
    "    print(\"## New method for **more** counterfactuals!\")\n",
    "    for point in explainer.more_counterfactuals():\n",
    "        # this is generating right here the \"more\" counterfactuals\n",
    "        plt.imshow(point.a.astype(\"uint8\"), cmap=\"gray\")\n",
    "        plt.title(\n",
    "            f\"counterfactual - black box predicted class: {point.blackboxpd.predicted_class}\"\n",
    "        )\n",
    "        plt.show()"
   ]
  },
  {
   "cell_type": "code",
   "execution_count": null,
   "metadata": {},
   "outputs": [],
   "source": []
  }
 ],
 "metadata": {
  "language_info": {
   "name": "python"
  }
 },
 "nbformat": 4,
 "nbformat_minor": 2
}
