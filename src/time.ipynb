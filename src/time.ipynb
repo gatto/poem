{
 "cells": [
  {
   "cell_type": "markdown",
   "metadata": {},
   "source": [
    "# Timing of oab\n",
    "## Run these once, at the start of the notebook"
   ]
  },
  {
   "cell_type": "code",
   "execution_count": null,
   "metadata": {},
   "outputs": [],
   "source": [
    "import logging\n",
    "import oab"
   ]
  },
  {
   "cell_type": "code",
   "execution_count": 1,
   "metadata": {},
   "outputs": [],
   "source": [
    "import pickle\n",
    "import time\n",
    "from collections import Counter\n",
    "from time import perf_counter\n",
    "\n",
    "import matplotlib.pyplot as plt\n",
    "import numpy as np\n",
    "import pandas as pd\n",
    "from rich import print"
   ]
  },
  {
   "cell_type": "code",
   "execution_count": 2,
   "metadata": {},
   "outputs": [],
   "source": [
    "# make results list\n",
    "results_table = []"
   ]
  },
  {
   "cell_type": "markdown",
   "metadata": {},
   "source": [
    "## Personalize the following cell"
   ]
  },
  {
   "cell_type": "code",
   "execution_count": 3,
   "metadata": {},
   "outputs": [],
   "source": [
    "# personalize this for running the notebook in different ways\n",
    "dataset_name = \"mnist\"\n",
    "algo_name = \"RF\"\n",
    "\n",
    "my_class = 7\n",
    "\n",
    "how_many_images = 100  # how many images each combination of the above?"
   ]
  },
  {
   "cell_type": "markdown",
   "metadata": {},
   "source": [
    "## Run these after each \"personalization\"\n",
    "To get results on multiple datasets, algorithms, classes"
   ]
  },
  {
   "cell_type": "markdown",
   "metadata": {},
   "source": [
    "### Cells *not* timed\n",
    "Data loading and more"
   ]
  },
  {
   "cell_type": "code",
   "execution_count": null,
   "metadata": {},
   "outputs": [],
   "source": [
    "(X_train, Y_train), (X_test, Y_test), (X_tree, Y_tree) = oab.get_data(dataset_name)\n",
    "my_dom = oab.Domain(dataset_name, algo_name)\n",
    "index = {}\n",
    "points = {}\n",
    "for my_class in range(10):\n",
    "    index[my_class] = np.where(Y_test == my_class)[0]\n",
    "my_dom.load()"
   ]
  },
  {
   "cell_type": "markdown",
   "metadata": {},
   "source": [
    "### Timed cells"
   ]
  },
  {
   "cell_type": "code",
   "execution_count": null,
   "metadata": {},
   "outputs": [],
   "source": [
    "start = perf_counter()\n",
    "\n",
    "for i, my_index in enumerate(index[my_class]):\n",
    "    testpoint = oab.TestPoint(X_test[my_index], my_dom)\n",
    "    logging.info(f\"start explanation of index {my_index}\")\n",
    "    exp = oab.Explainer(testpoint, howmany=10)\n",
    "\n",
    "    print(\"for test\", exp.testpoint.latent.a)\n",
    "    plt.imshow(exp.testpoint.a.astype(\"uint8\"), cmap=\"gray\")\n",
    "    plt.title(\n",
    "        f\"TestPoint - black box predicted class: {exp.testpoint.blackboxpd.predicted_class}\"\n",
    "    )\n",
    "    plt.show()\n",
    "\n",
    "    print(\"for treepoint\", exp.target.latent.a)\n",
    "    plt.imshow(exp.target.a.astype(\"uint8\"), cmap=\"gray\")\n",
    "    plt.title(\n",
    "        f\"TreePoint - black box predicted class: {exp.target.blackboxpd.predicted_class}\"\n",
    "    )\n",
    "    plt.show()\n",
    "\n",
    "    print(\"counterrules\")\n",
    "    print(exp.target.latentdt.counterrules)\n",
    "\n",
    "    print(\"for this target treepoint:\")\n",
    "    print(exp.target)\n",
    "    print(\"# factuals\")\n",
    "    for point in exp.factuals:\n",
    "        plt.imshow(point.a.astype(\"uint8\"), cmap=\"gray\")\n",
    "        plt.title(\n",
    "            f\"factual - black box predicted class: {point.blackboxpd.predicted_class}\"\n",
    "        )\n",
    "        plt.show()\n",
    "    print(\"## factuals BUT closest, instead of furthest\")\n",
    "    for point in exp._factuals_default(closest=True):\n",
    "        plt.imshow(point.a.astype(\"uint8\"), cmap=\"gray\")\n",
    "        plt.title(\n",
    "            f\"factual - black box predicted class: {point.blackboxpd.predicted_class}\"\n",
    "        )\n",
    "        plt.show()\n",
    "    print(\"# counterfactuals\")\n",
    "    # the following is because sometimes an error TypeError: 'NoneType' object is not iterable\n",
    "    if exp.counterfactuals:\n",
    "        for point in exp.counterfactuals:\n",
    "            print(\"miao1\")\n",
    "            plt.imshow(point.a.astype(\"uint8\"), cmap=\"gray\")\n",
    "            print(\"miao2\")\n",
    "            plt.title(\n",
    "                f\"counterfactual - black box predicted class: {point.blackboxpd.predicted_class}\"\n",
    "            )\n",
    "            print(\"miao3\")\n",
    "            plt.show()\n",
    "    print(\"## New method for **more** counterfactuals!\")\n",
    "    for point in exp.more_counterfactuals():\n",
    "        # this is generating right here the \"more\" counterfactuals\n",
    "        plt.imshow(point.a.astype(\"uint8\"), cmap=\"gray\")\n",
    "        plt.title(\n",
    "            f\"counterfactual - black box predicted class: {point.blackboxpd.predicted_class}\"\n",
    "        )\n",
    "        plt.show()\n",
    "\n",
    "    if i >= how_many_images:\n",
    "        # how many points to do per class\n",
    "        break\n",
    "\n",
    "\n",
    "end = perf_counter()\n",
    "# compute time\n",
    "execution_time = end - start\n",
    "# append into results_table\n",
    "results_table.append(\n",
    "    {\n",
    "        \"Dataset\": dataset_name,\n",
    "        \"Algo\": algo_name,\n",
    "        \"Class\": my_class,\n",
    "        \"Time\": execution_time,\n",
    "    }\n",
    ")"
   ]
  },
  {
   "cell_type": "markdown",
   "metadata": {},
   "source": [
    "## Run this to show the results table"
   ]
  },
  {
   "cell_type": "code",
   "execution_count": 1,
   "metadata": {},
   "outputs": [
    {
     "ename": "NameError",
     "evalue": "name 'pd' is not defined",
     "output_type": "error",
     "traceback": [
      "\u001b[0;31m---------------------------------------------------------------------------\u001b[0m",
      "\u001b[0;31mNameError\u001b[0m                                 Traceback (most recent call last)",
      "\u001b[1;32m/Users/fabio/repos/tesi/src/time.ipynb Cell 13\u001b[0m line \u001b[0;36m1\n\u001b[0;32m----> <a href='vscode-notebook-cell:/Users/fabio/repos/tesi/src/time.ipynb#X15sZmlsZQ%3D%3D?line=0'>1</a>\u001b[0m results_dataframe \u001b[39m=\u001b[39m pd\u001b[39m.\u001b[39mDataFrame\u001b[39m.\u001b[39mfrom_records(results_table)\n\u001b[1;32m      <a href='vscode-notebook-cell:/Users/fabio/repos/tesi/src/time.ipynb#X15sZmlsZQ%3D%3D?line=1'>2</a>\u001b[0m results_dataframe\n",
      "\u001b[0;31mNameError\u001b[0m: name 'pd' is not defined"
     ]
    }
   ],
   "source": [
    "results_dataframe = pd.DataFrame.from_records(results_table)\n",
    "results_dataframe"
   ]
  },
  {
   "cell_type": "code",
   "execution_count": null,
   "metadata": {},
   "outputs": [],
   "source": []
  }
 ],
 "metadata": {
  "kernelspec": {
   "display_name": "venv",
   "language": "python",
   "name": "python3"
  },
  "language_info": {
   "codemirror_mode": {
    "name": "ipython",
    "version": 3
   },
   "file_extension": ".py",
   "mimetype": "text/x-python",
   "name": "python",
   "nbconvert_exporter": "python",
   "pygments_lexer": "ipython3",
   "version": "3.11.6"
  }
 },
 "nbformat": 4,
 "nbformat_minor": 2
}
