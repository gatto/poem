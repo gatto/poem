{
 "cells": [
  {
   "cell_type": "markdown",
   "metadata": {},
   "source": [
    "# Timing of oab\n",
    "## Run these once, at the start of the notebook"
   ]
  },
  {
   "cell_type": "code",
   "execution_count": null,
   "metadata": {},
   "outputs": [],
   "source": [
    "import logging\n",
    "from time import perf_counter\n",
    "\n",
    "import numpy as np\n",
    "import pandas as pd\n",
    "from rich import print\n",
    "\n",
    "import oabrefactor as oab"
   ]
  },
  {
   "cell_type": "code",
   "execution_count": 2,
   "metadata": {},
   "outputs": [],
   "source": [
    "# make results list\n",
    "results_table = []"
   ]
  },
  {
   "cell_type": "markdown",
   "metadata": {},
   "source": [
    "## Personalize the following cell"
   ]
  },
  {
   "cell_type": "code",
   "execution_count": 3,
   "metadata": {},
   "outputs": [],
   "source": [
    "# personalize this for running the notebook in different ways\n",
    "dataset_name = \"mnist\"\n",
    "algo_name = \"RF\"\n",
    "\n",
    "my_class = 7\n",
    "\n",
    "how_many_images = 50  # how many images each combination of the above?"
   ]
  },
  {
   "cell_type": "markdown",
   "metadata": {},
   "source": [
    "## Run these after each \"personalization\"\n",
    "To get results on multiple datasets, algorithms, classes"
   ]
  },
  {
   "cell_type": "markdown",
   "metadata": {},
   "source": [
    "### Cells *not* timed\n",
    "Data loading and more"
   ]
  },
  {
   "cell_type": "code",
   "execution_count": null,
   "metadata": {},
   "outputs": [],
   "source": [
    "(X_train, Y_train), (X_test, Y_test), (X_tree, Y_tree) = oab.get_data(dataset_name)\n",
    "my_dom = oab.Domain(dataset_name, algo_name)\n",
    "index = {}\n",
    "points = {}\n",
    "for my_class in range(10):\n",
    "    index[my_class] = np.where(Y_test == my_class)[0]\n",
    "my_dom.load()"
   ]
  },
  {
   "cell_type": "markdown",
   "metadata": {},
   "source": [
    "### Timed cells"
   ]
  },
  {
   "cell_type": "code",
   "execution_count": null,
   "metadata": {},
   "outputs": [],
   "source": [
    "start = perf_counter()\n",
    "\n",
    "for i, my_index in enumerate(index[my_class]):\n",
    "    testpoint = oab.TestPoint(X_test[my_index], my_dom)\n",
    "    logging.info(f\"start explanation of index {my_index}\")\n",
    "    exp = oab.Explainer(testpoint, howmany=5)\n",
    "\n",
    "    if not exp.factuals:\n",
    "        exp.factuals = []\n",
    "    print(f\"# factuals made: {len(exp.factuals)}\")\n",
    "    # counterfactuals part\n",
    "    if not exp.counterfactuals:\n",
    "        exp.counterfactuals = []\n",
    "    print(f\"how many counterfactuals made: {len(exp.counterfactuals)}\")\n",
    "\n",
    "    if i >= how_many_images:\n",
    "        # how many points to do per class\n",
    "        break\n",
    "end = perf_counter()\n",
    "\n",
    "# compute time\n",
    "execution_time = end - start\n",
    "# append into results_table\n",
    "results_table.append(\n",
    "    {\n",
    "        \"Dataset\": dataset_name,\n",
    "        \"Algo\": algo_name,\n",
    "        \"Class\": my_class,\n",
    "        \"Time\": execution_time,\n",
    "    }\n",
    ")"
   ]
  },
  {
   "cell_type": "markdown",
   "metadata": {},
   "source": [
    "## Run this to show the results table"
   ]
  },
  {
   "cell_type": "code",
   "execution_count": null,
   "metadata": {},
   "outputs": [],
   "source": [
    "results_dataframe = pd.DataFrame.from_records(results_table)\n",
    "results_dataframe"
   ]
  },
  {
   "cell_type": "code",
   "execution_count": null,
   "metadata": {},
   "outputs": [],
   "source": []
  }
 ],
 "metadata": {
  "kernelspec": {
   "display_name": "venv",
   "language": "python",
   "name": "python3"
  },
  "language_info": {
   "codemirror_mode": {
    "name": "ipython",
    "version": 3
   },
   "file_extension": ".py",
   "mimetype": "text/x-python",
   "name": "python",
   "nbconvert_exporter": "python",
   "pygments_lexer": "ipython3",
   "version": "3.11.7"
  }
 },
 "nbformat": 4,
 "nbformat_minor": 2
}
