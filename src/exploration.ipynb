{
 "cells": [
  {
   "cell_type": "code",
   "execution_count": null,
   "metadata": {},
   "outputs": [],
   "source": [
    "from rich import print\n",
    "import oab\n",
    "import matplotlib.pyplot as plt\n",
    "import logging\n",
    "from pathlib import Path\n",
    "\n",
    "logging.basicConfig(filename=\"mnist-oab.log\",filemode=\"a\",format=\"%(asctime)s,%(msecs)d %(name)s %(levelname)s %(message)s\",datefmt=\"%H:%M:%S\",level=logging.INFO)"
   ]
  },
  {
   "cell_type": "code",
   "execution_count": null,
   "metadata": {},
   "outputs": [],
   "source": [
    "(X_train, Y_train), (X_test, Y_test), (X_tree, Y_tree) = oab.get_data()"
   ]
  },
  {
   "cell_type": "code",
   "execution_count": null,
   "metadata": {},
   "outputs": [],
   "source": [
    "my_dom = oab.Domain(dataset=\"mnist\")"
   ]
  },
  {
   "cell_type": "code",
   "execution_count": null,
   "metadata": {},
   "outputs": [],
   "source": [
    "print(Path.cwd())"
   ]
  },
  {
   "cell_type": "code",
   "execution_count": null,
   "metadata": {},
   "outputs": [],
   "source": [
    "# this gives problems: oab.TestPoint(X_test[200], domain=my_dom)\n",
    "points = X_test[:2]\n",
    "\n",
    "for i, array in enumerate(points):\n",
    "    logging.info(f\"Point #{i} creation\")\n",
    "    test_point = oab.TestPoint(array, my_dom)\n",
    "    logging.info(f\"Point #{i} explanation\")\n",
    "    exp = oab.Explainer(test_point)"
   ]
  },
  {
   "cell_type": "code",
   "execution_count": null,
   "metadata": {},
   "outputs": [],
   "source": [
    "print(exp.factuals)"
   ]
  },
  {
   "cell_type": "code",
   "execution_count": null,
   "metadata": {},
   "outputs": [],
   "source": [
    "for point in exp.factuals:\n",
    "    plt.imshow(point.a.astype(\"uint8\"), cmap=\"gray\")\n",
    "    plt.title(f\"factual - black box predicted class: {point.blackboxpd.predicted_class}\")\n",
    "    plt.show()"
   ]
  },
  {
   "cell_type": "code",
   "execution_count": null,
   "metadata": {},
   "outputs": [],
   "source": [
    "print(exp.counterfactuals)"
   ]
  },
  {
   "cell_type": "code",
   "execution_count": null,
   "metadata": {},
   "outputs": [],
   "source": [
    "for point in exp.counterfactuals:\n",
    "    plt.imshow(point.a.astype(\"uint8\"), cmap=\"gray\")\n",
    "    plt.title(f\"counterfactual - black box predicted class: {point.blackboxpd.predicted_class}\")\n",
    "    plt.show()"
   ]
  }
 ],
 "metadata": {
  "language_info": {
   "name": "python"
  },
  "orig_nbformat": 4
 },
 "nbformat": 4,
 "nbformat_minor": 2
}
