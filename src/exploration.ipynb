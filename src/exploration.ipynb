{
 "cells": [
  {
   "cell_type": "code",
   "execution_count": null,
   "metadata": {},
   "outputs": [],
   "source": [
    "from rich import print\n",
    "import oab\n",
    "import matplotlib.pyplot as plt\n",
    "import logging\n",
    "from rich.progress import track\n",
    "from pathlib import Path"
   ]
  },
  {
   "cell_type": "code",
   "execution_count": null,
   "metadata": {},
   "outputs": [],
   "source": [
    "(X_train, Y_train), (X_test, Y_test), (X_tree, Y_tree) = oab.get_data()"
   ]
  },
  {
   "cell_type": "code",
   "execution_count": null,
   "metadata": {},
   "outputs": [],
   "source": [
    "my_dom = oab.Domain(dataset=\"mnist\")"
   ]
  },
  {
   "cell_type": "code",
   "execution_count": null,
   "metadata": {},
   "outputs": [],
   "source": [
    "print(Path.cwd())"
   ]
  },
  {
   "cell_type": "code",
   "execution_count": null,
   "metadata": {},
   "outputs": [],
   "source": [
    "# this gives problems\n",
    "# test_point = oab.TestPoint(X_test[200], domain=my_dom)\n",
    "points = X_test[:20]\n",
    "\n",
    "for i, array in enumerate(track(points)):\n",
    "    logging.basicConfig(\n",
    "        filename=\"/home/frusso/repos/tesi/src/experiments/mnist-oab.log\",\n",
    "        filemode=\"a\",\n",
    "        format=\"%(asctime)s,%(msecs)d %(name)s %(levelname)s %(message)s\",\n",
    "        datefmt=\"%H:%M:%S\",\n",
    "        level=logging.INFO)\n",
    "    \n",
    "    logging.info(f\"Point #{i} creation\")\n",
    "    test_point = oab.TestPoint(array, my_dom)\n",
    "    logging.info(f\"Point #{i} explanation\")\n",
    "    exp = oab.Explainer(test_point)"
   ]
  },
  {
   "cell_type": "code",
   "execution_count": null,
   "metadata": {},
   "outputs": [],
   "source": [
    "print(exp.factuals)"
   ]
  },
  {
   "cell_type": "code",
   "execution_count": null,
   "metadata": {},
   "outputs": [],
   "source": [
    "for point in exp.factuals:\n",
    "    plt.imshow(point.a.astype(\"uint8\"), cmap=\"gray\")\n",
    "    plt.title(f\"factual - black box predicted class: {point.blackboxpd.predicted_class}\")\n",
    "    plt.show()"
   ]
  },
  {
   "cell_type": "code",
   "execution_count": null,
   "metadata": {},
   "outputs": [],
   "source": [
    "print(exp.counterfactuals)"
   ]
  },
  {
   "cell_type": "code",
   "execution_count": null,
   "metadata": {},
   "outputs": [],
   "source": [
    "for point in exp.counterfactuals:\n",
    "    plt.imshow(point.a.astype(\"uint8\"), cmap=\"gray\")\n",
    "    plt.title(f\"counterfactual - black box predicted class: {point.blackboxpd.predicted_class}\")\n",
    "    plt.show()"
   ]
  }
 ],
 "metadata": {
  "language_info": {
   "name": "python"
  },
  "orig_nbformat": 4
 },
 "nbformat": 4,
 "nbformat_minor": 2
}
