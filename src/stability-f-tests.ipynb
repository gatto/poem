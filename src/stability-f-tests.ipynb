{
 "cells": [
  {
   "cell_type": "markdown",
   "metadata": {},
   "source": [
    "# Timing of oab\n",
    "## Run these once, at the start of the notebook"
   ]
  },
  {
   "cell_type": "code",
   "execution_count": null,
   "metadata": {},
   "outputs": [],
   "source": [
    "import logging\n",
    "from time import perf_counter\n",
    "\n",
    "import numpy as np\n",
    "import pandas as pd\n",
    "from rich import print\n",
    "\n",
    "import oab"
   ]
  },
  {
   "cell_type": "code",
   "execution_count": 2,
   "metadata": {},
   "outputs": [],
   "source": [
    "# make results list\n",
    "results_table = []"
   ]
  },
  {
   "cell_type": "markdown",
   "metadata": {},
   "source": [
    "## Personalize the following cell"
   ]
  },
  {
   "cell_type": "code",
   "execution_count": 3,
   "metadata": {},
   "outputs": [],
   "source": [
    "# personalize this for running the notebook in different ways\n",
    "algo_name = \"DNN\"\n",
    "\n",
    "how_many_iterations = 2  # how many images each combination of the above? try: 100"
   ]
  },
  {
   "cell_type": "markdown",
   "metadata": {},
   "source": [
    "## Run these after each \"personalization\"\n",
    "To get results on multiple datasets, algorithms, classes"
   ]
  },
  {
   "cell_type": "markdown",
   "metadata": {},
   "source": [
    "### Timed cells"
   ]
  },
  {
   "cell_type": "code",
   "execution_count": null,
   "metadata": {},
   "outputs": [],
   "source": [
    "datasets = [\"mnist\", \"fashion\", \"emnist\"]\n",
    "results = {}\n",
    "\n",
    "for dataset_name in datasets:\n",
    "    results[dataset_name] = {}\n",
    "\n",
    "    (X_train, Y_train), (X_test, Y_test), (X_tree, Y_tree) = oab.get_data(dataset_name)\n",
    "    my_dom = oab.Domain(dataset_name, algo_name)\n",
    "    index = {}\n",
    "    points = {}\n",
    "    for my_class in range(10):\n",
    "        index[my_class] = np.where(Y_test == my_class)[0]\n",
    "    my_dom.load()\n",
    "    my_index = 20  # to change with random\n",
    "\n",
    "    for my_class in [int(x) for x in my_dom.classes]:\n",
    "        explainers = []\n",
    "        start = perf_counter()\n",
    "\n",
    "        for i in range(how_many_iterations):\n",
    "            testpoint = oab.TestPoint(X_test[my_index], my_dom)\n",
    "            logging.info(f\"start explanation of index {my_index}\")\n",
    "            exp = oab.Explainer(testpoint, howmany=5)\n",
    "\n",
    "            if not exp.factuals:\n",
    "                exp.factuals = []\n",
    "            explainers.append(exp)\n",
    "            print(f\"# factuals made: {len(exp.factuals)}\")\n",
    "\n",
    "        end = perf_counter()\n",
    "\n",
    "        # compute time\n",
    "        execution_time = end - start\n",
    "        # append into results_table\n",
    "        results_table.append(\n",
    "            {\n",
    "                \"Dataset\": dataset_name,\n",
    "                \"Algo\": algo_name,\n",
    "                \"Class\": my_class,\n",
    "                \"Time\": round(execution_time, 2),\n",
    "            }\n",
    "        )\n",
    "\n",
    "        # flatten the explainers\n",
    "        factuals = []\n",
    "        for explainer in explainers:\n",
    "            for point in explainer.factuals:\n",
    "                factuals.append(point)\n",
    "\n",
    "        # compute edges\n",
    "        for dimensions in factuals[0]:\n",
    "            print(dimensions.shape)\n",
    "            pass\n",
    "\n",
    "        # calculate area of hyperpol\n",
    "        lengths = np.ndarray\n",
    "        for dimension in dimensions:\n",
    "            lengths.append(abs(dimension.min - dimension.max))\n",
    "        area = lengths.prod()\n",
    "\n",
    "        # report this area back as the density of a group of points.\n",
    "        results[dataset_name][my_class] = area\n",
    "\n",
    "        break  # for now, do it once."
   ]
  },
  {
   "cell_type": "markdown",
   "metadata": {},
   "source": [
    "## Run this to show the results table"
   ]
  },
  {
   "cell_type": "code",
   "execution_count": null,
   "metadata": {},
   "outputs": [],
   "source": [
    "results_dataframe = pd.DataFrame.from_records(results_table)\n",
    "results_dataframe"
   ]
  },
  {
   "cell_type": "code",
   "execution_count": null,
   "metadata": {},
   "outputs": [],
   "source": []
  }
 ],
 "metadata": {
  "kernelspec": {
   "display_name": "venv",
   "language": "python",
   "name": "python3"
  },
  "language_info": {
   "codemirror_mode": {
    "name": "ipython",
    "version": 3
   },
   "file_extension": ".py",
   "mimetype": "text/x-python",
   "name": "python",
   "nbconvert_exporter": "python",
   "pygments_lexer": "ipython3",
   "version": "3.11.6"
  }
 },
 "nbformat": 4,
 "nbformat_minor": 2
}
