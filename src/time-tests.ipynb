{
 "cells": [
  {
   "cell_type": "markdown",
   "metadata": {},
   "source": [
    "# Timing of oab\n",
    "## Run these once, at the start of the notebook"
   ]
  },
  {
   "cell_type": "code",
   "execution_count": null,
   "metadata": {},
   "outputs": [],
   "source": [
    "import logging\n",
    "from time import perf_counter\n",
    "\n",
    "import numpy as np\n",
    "import pandas as pd\n",
    "from rich import print\n",
    "\n",
    "import oab"
   ]
  },
  {
   "cell_type": "code",
   "execution_count": 2,
   "metadata": {},
   "outputs": [],
   "source": [
    "# make results list\n",
    "results_table = []"
   ]
  },
  {
   "cell_type": "markdown",
   "metadata": {},
   "source": [
    "## Personalize the following cell"
   ]
  },
  {
   "cell_type": "code",
   "execution_count": 3,
   "metadata": {},
   "outputs": [],
   "source": [
    "# personalize this for running the notebook in different ways\n",
    "algo_name = \"RF\"\n",
    "\n",
    "how_many_images = 3  # how many images each combination of the above?"
   ]
  },
  {
   "cell_type": "markdown",
   "metadata": {},
   "source": [
    "## Run these after each \"personalization\"\n",
    "To get results on multiple datasets, algorithms, classes"
   ]
  },
  {
   "cell_type": "markdown",
   "metadata": {},
   "source": [
    "### Timed cells"
   ]
  },
  {
   "cell_type": "code",
   "execution_count": null,
   "metadata": {},
   "outputs": [],
   "source": [
    "datasets = [\"mnist\", \"fashion\", \"emnist\"]\n",
    "\n",
    "for dataset_name in datasets:\n",
    "    (X_train, Y_train), (X_test, Y_test), (X_tree, Y_tree) = oab.get_data(dataset_name)\n",
    "    my_dom = oab.Domain(dataset_name, algo_name)\n",
    "    index = {}\n",
    "    points = {}\n",
    "    for my_class in range(10):\n",
    "        index[my_class] = np.where(Y_test == my_class)[0]\n",
    "    my_dom.load()\n",
    "\n",
    "    start = perf_counter()\n",
    "\n",
    "    for my_class in my_dom.classes:\n",
    "        for i, my_index in enumerate(index[my_class]):\n",
    "            testpoint = oab.TestPoint(X_test[my_index], my_dom)\n",
    "            logging.info(f\"start explanation of index {my_index}\")\n",
    "            exp = oab.Explainer(testpoint, howmany=5)\n",
    "\n",
    "            print(f\"# factuals made: {len(exp.factuals)}\")\n",
    "            # counterfactuals part\n",
    "            if exp.counterfactuals:\n",
    "                print(f\"how many counterfactuals made: {len(exp.counterfactuals)}\")\n",
    "            else:\n",
    "                print(\"how many counterfactuals made: 0\")\n",
    "\n",
    "            if i >= how_many_images:\n",
    "                # how many points to do per class\n",
    "                break\n",
    "        end = perf_counter()\n",
    "\n",
    "        # compute time\n",
    "        execution_time = end - start\n",
    "        # append into results_table\n",
    "        results_table.append(\n",
    "            {\n",
    "                \"Dataset\": dataset_name,\n",
    "                \"Algo\": algo_name,\n",
    "                \"Class\": my_class,\n",
    "                \"Time\": execution_time,\n",
    "            }\n",
    "        )"
   ]
  },
  {
   "cell_type": "markdown",
   "metadata": {},
   "source": [
    "## Run this to show the results table"
   ]
  },
  {
   "cell_type": "code",
   "execution_count": null,
   "metadata": {},
   "outputs": [],
   "source": [
    "results_dataframe = pd.DataFrame.from_records(results_table)\n",
    "results_dataframe"
   ]
  },
  {
   "cell_type": "code",
   "execution_count": null,
   "metadata": {},
   "outputs": [],
   "source": []
  }
 ],
 "metadata": {
  "kernelspec": {
   "display_name": "venv",
   "language": "python",
   "name": "python3"
  },
  "language_info": {
   "codemirror_mode": {
    "name": "ipython",
    "version": 3
   },
   "file_extension": ".py",
   "mimetype": "text/x-python",
   "name": "python",
   "nbconvert_exporter": "python",
   "pygments_lexer": "ipython3",
   "version": "3.11.6"
  }
 },
 "nbformat": 4,
 "nbformat_minor": 2
}
