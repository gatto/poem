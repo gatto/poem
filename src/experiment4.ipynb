{
 "cells": [
  {
   "cell_type": "code",
   "execution_count": null,
   "metadata": {},
   "outputs": [],
   "source": [
    "import logging\n",
    "logging.basicConfig(\n",
    "    filename=\"./data/mnist-oab-exp-third-exp.log\",\n",
    "    filemode=\"a\",\n",
    "    format=\"%(asctime)s,%(msecs)d %(name)s %(levelname)s %(message)s\",\n",
    "    datefmt=\"%H:%M:%S\",\n",
    "    level=logging.INFO,\n",
    ")\n",
    "import pickle\n",
    "import oab\n",
    "import numpy as np\n",
    "from rich import print\n",
    "import matplotlib.pyplot as plt\n",
    "\n",
    "(X_train, Y_train), (X_test, Y_test), (X_tree, Y_tree) = oab.get_data()\n",
    "my_dom = oab.Domain(\"mnist\", \"RF\")\n",
    "index = {}\n",
    "points = {}\n",
    "for my_class in range(10):\n",
    "    index[my_class] = np.where(Y_test == my_class)[0]"
   ]
  },
  {
   "cell_type": "code",
   "execution_count": null,
   "metadata": {},
   "outputs": [],
   "source": [
    "my_dom.load()"
   ]
  },
  {
   "cell_type": "code",
   "execution_count": null,
   "metadata": {},
   "outputs": [],
   "source": [
    "how_many_classes_todo = 1\n",
    "class_to_work = 3"
   ]
  },
  {
   "cell_type": "markdown",
   "metadata": {},
   "source": [
    "Save to disk explainers that pass the factual rule"
   ]
  },
  {
   "cell_type": "code",
   "execution_count": null,
   "metadata": {},
   "outputs": [],
   "source": [
    "for my_class in range(class_to_work, class_to_work + how_many_classes_todo):\n",
    "    print(f\"There are {len(index[my_class])} points with class {my_class} in the test set\")\n",
    "    for my_index in index[my_class]:\n",
    "        testpoint = oab.TestPoint(X_test[my_index], my_dom)\n",
    "        logging.info(f\"start explanation of index {my_index}\")\n",
    "        exp = oab.Explainer(testpoint, howmany=10)\n",
    "        if testpoint in exp.target.latentdt.rule:\n",
    "            try:\n",
    "                points[my_class].append(exp)\n",
    "            except KeyError:\n",
    "                points[my_class] = [exp]\n",
    "            print(\"nice\")\n",
    "            if len(points[my_class]) >= 3:\n",
    "                # how many points to do per class\n",
    "                break"
   ]
  },
  {
   "cell_type": "markdown",
   "metadata": {},
   "source": [
    "Now we plot"
   ]
  },
  {
   "cell_type": "code",
   "execution_count": null,
   "metadata": {},
   "outputs": [],
   "source": [
    "for my_class in range(class_to_work, class_to_work + how_many_classes_todo):\n",
    "    \n",
    "    print(f\"showing class {my_class}\")\n",
    "    for explainer in points[my_class]:\n",
    "        print(\"for test\", explainer.testpoint.latent.a)\n",
    "        plt.imshow(explainer.testpoint.a.astype(\"uint8\"), cmap=\"gray\")\n",
    "        plt.title(f\"TestPoint - black box predicted class: {explainer.testpoint.blackboxpd.predicted_class}\")\n",
    "        plt.show()\n",
    "\n",
    "        print(\"for treepoint\", explainer.target.latent.a)\n",
    "        plt.imshow(explainer.target.a.astype(\"uint8\"), cmap=\"gray\")\n",
    "        plt.title(f\"TreePoint - black box predicted class: {explainer.target.blackboxpd.predicted_class}\")\n",
    "        plt.show()\n",
    "        \n",
    "        print(\"counterrules\")\n",
    "        print(explainer.target.latentdt.counterrules)\n",
    "\n",
    "        print(\"for this target treepoint:\")\n",
    "        print(explainer.target)\n",
    "        print(\"# factuals\")\n",
    "        for point in explainer.factuals:\n",
    "            plt.imshow(point.a.astype(\"uint8\"), cmap=\"gray\")\n",
    "            plt.title(f\"factual - black box predicted class: {point.blackboxpd.predicted_class}\")\n",
    "            plt.show()\n",
    "        print(\"## factuals BUT closest, instead of furthest\")\n",
    "        for point in explainer._factuals_default(closest=True):\n",
    "            plt.imshow(point.a.astype(\"uint8\"), cmap=\"gray\")\n",
    "            plt.title(f\"factual - black box predicted class: {point.blackboxpd.predicted_class}\")\n",
    "            plt.show()\n",
    "        print(\"# counterfactuals\")\n",
    "        for point in explainer.counterfactuals:\n",
    "            plt.imshow(point.a.astype(\"uint8\"), cmap=\"gray\")\n",
    "            plt.title(f\"counterfactual - black box predicted class: {point.blackboxpd.predicted_class}\")\n",
    "            plt.show()\n",
    "        print(\"## New method for **more** counterfactuals!\")\n",
    "        for point in explainer.more_counterfactuals():\n",
    "            # this is generating right here the \"more\" counterfactuals\n",
    "            plt.imshow(point.a.astype(\"uint8\"), cmap=\"gray\")\n",
    "            plt.title(f\"counterfactual - black box predicted class: {point.blackboxpd.predicted_class}\")\n",
    "            plt.show()"
   ]
  },
  {
   "cell_type": "code",
   "execution_count": null,
   "metadata": {},
   "outputs": [],
   "source": [
    "import copy\n",
    "print(\"Counterrules applied on treepoint itself (like Abele)\")\n",
    "print(explainer.target.latentdt.counterrules[1])\n",
    "print(explainer.target.latent.a)\n",
    "\n",
    "explainer = points[my_class][-1]\n",
    "\n",
    "eps = 0.04\n",
    "i = 1\n",
    "geq = {\">=\", \">\"}\n",
    "\n",
    "value_to_overwrite = (\n",
    "    explainer.target.latentdt.counterrules[1].value + eps * i if explainer.target.latentdt.counterrules[1].operator in geq else explainer.target.latentdt.counterrules[1].value - eps * i\n",
    ")\n",
    "\n",
    "# THIS IS THE IMAGEEXPLANATION GENERATION\n",
    "new_point = oab.ImageExplanation(\n",
    "    latent=oab.Latent(a=copy.deepcopy(explainer.target.latent.a)),\n",
    ")\n",
    "new_point.latent.a[explainer.target.latentdt.counterrules[1].feature] = value_to_overwrite\n",
    "\n",
    "# static set discriminator probability at 0.35\n",
    "# passes discriminator? Return it immediately.\n",
    "# No? start again with entire point generation\n",
    "if my_dom.ae.discriminate(new_point) >= 0.35:\n",
    "    print(new_point)\n",
    "else:\n",
    "    print(f\"ahi {my_dom.ae.discriminate(new_point)}\")\n"
   ]
  },
  {
   "cell_type": "code",
   "execution_count": null,
   "metadata": {},
   "outputs": [],
   "source": [
    "plt.imshow(new_point.a.astype(\"uint8\"), cmap=\"gray\")\n",
    "plt.title(f\"TreePoint - black box predicted class: {new_point.blackboxpd.predicted_class}\")\n",
    "plt.show()"
   ]
  },
  {
   "cell_type": "code",
   "execution_count": null,
   "metadata": {},
   "outputs": [],
   "source": [
    "print(new_point)"
   ]
  },
  {
   "cell_type": "code",
   "execution_count": null,
   "metadata": {},
   "outputs": [],
   "source": [
    "rabbia = new_point.latent.a\n",
    "start = -2\n",
    "for i in range(20):\n",
    "    new_pointtt = copy.deepcopy(rabbia)\n",
    "    new_pointtt[0] = start + i * 0.2\n",
    "    new_pointtt = oab.ImageExplanation(oab.Latent(new_pointtt))\n",
    "    plt.imshow(new_pointtt.a.astype(\"uint8\"), cmap=\"gray\")\n",
    "    plt.title(f\"TreePoint - black box predicted class: {new_pointtt.blackboxpd.predicted_class}\")\n",
    "    plt.show()"
   ]
  }
 ],
 "metadata": {
  "language_info": {
   "name": "python"
  },
  "orig_nbformat": 4
 },
 "nbformat": 4,
 "nbformat_minor": 2
}
