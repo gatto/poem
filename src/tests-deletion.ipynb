{
 "cells": [
  {
   "cell_type": "markdown",
   "metadata": {},
   "source": [
    "# Timing of oab\n",
    "## Run these once, at the start of the notebook"
   ]
  },
  {
   "cell_type": "code",
   "execution_count": null,
   "metadata": {},
   "outputs": [],
   "source": [
    "import logging\n",
    "from time import perf_counter\n",
    "\n",
    "import matplotlib.pyplot as plt\n",
    "import numpy as np\n",
    "import pandas as pd\n",
    "from rich import print\n",
    "\n",
    "import oab"
   ]
  },
  {
   "cell_type": "code",
   "execution_count": 2,
   "metadata": {},
   "outputs": [],
   "source": [
    "# make results list\n",
    "results_table = []"
   ]
  },
  {
   "cell_type": "markdown",
   "metadata": {},
   "source": [
    "## Personalize the following cell"
   ]
  },
  {
   "cell_type": "code",
   "execution_count": 3,
   "metadata": {},
   "outputs": [],
   "source": [
    "# personalize this for running the notebook in different ways\n",
    "algo_name = \"RF\"\n",
    "dataset_name = \"mnist\"\n",
    "\n",
    "how_many_images = 10  # how many images each combination of the above?"
   ]
  },
  {
   "cell_type": "markdown",
   "metadata": {},
   "source": [
    "## Run these after each \"personalization\"\n",
    "To get results on multiple datasets, algorithms, classes\n",
    "### Non timed cells"
   ]
  },
  {
   "cell_type": "code",
   "execution_count": null,
   "metadata": {},
   "outputs": [],
   "source": [
    "(X_train, Y_train), (X_test, Y_test), (X_tree, Y_tree) = oab.get_data(dataset_name)\n",
    "my_dom = oab.Domain(dataset_name, algo_name)\n",
    "index = {}\n",
    "points = {}\n",
    "for my_class in range(10):\n",
    "    index[my_class] = np.where(Y_test == my_class)[0]\n",
    "myres = {}"
   ]
  },
  {
   "cell_type": "markdown",
   "metadata": {},
   "source": [
    "### Timed cells"
   ]
  },
  {
   "cell_type": "code",
   "execution_count": null,
   "metadata": {},
   "outputs": [],
   "source": [
    "for my_class in [int(x) for x in my_dom.classes]:\n",
    "    for i, my_index in enumerate(index[my_class]):\n",
    "        start = perf_counter()\n",
    "        testpoint = oab.TestPoint(X_test[my_index], my_dom)\n",
    "        logging.info(f\"start explanation of index {my_index}\")\n",
    "        exp = oab.Explainer(testpoint, howmany=5)\n",
    "\n",
    "        end = perf_counter()\n",
    "        execution_time = end - start\n",
    "\n",
    "        # if we failed to find a target\n",
    "        if exp.target:\n",
    "            crules = len(exp.target.latentdt.counterrules)\n",
    "            mymap = exp.get_map()\n",
    "            experiment = oab.DeletionExperiment(exp, mymap)\n",
    "            myres[my_index] = experiment.results\n",
    "        else:\n",
    "            crules = \"error\"\n",
    "\n",
    "        # append into results_table\n",
    "        results_table.append(\n",
    "            {\n",
    "                \"Dataset\": dataset_name,\n",
    "                \"Algo\": algo_name,\n",
    "                \"Class\": my_class,\n",
    "                \"id\": my_index,\n",
    "                \"Time\": round(execution_time, 2),\n",
    "                \"factuals / 5\": len(exp.factuals),\n",
    "                \"cfact\": len(exp.counterfactuals),\n",
    "                \"crules\": crules,\n",
    "            }\n",
    "        )\n",
    "        if i >= how_many_images - 1:\n",
    "            # how many points to do per class\n",
    "            break"
   ]
  },
  {
   "cell_type": "markdown",
   "metadata": {},
   "source": [
    "## Run this to show the results table"
   ]
  },
  {
   "cell_type": "code",
   "execution_count": null,
   "metadata": {},
   "outputs": [],
   "source": [
    "results_dataframe = pd.DataFrame.from_records(results_table)\n",
    "results_dataframe"
   ]
  },
  {
   "cell_type": "markdown",
   "metadata": {},
   "source": [
    "## Graph"
   ]
  },
  {
   "cell_type": "code",
   "execution_count": null,
   "metadata": {},
   "outputs": [],
   "source": [
    "averages = pd.DataFrame(columns=[\"pixels remaining\", \"proba\"])\n",
    "\n",
    "for my_index in myres:\n",
    "    averages = pd.concat(averages, myres[my_index][\"proba\"])\n",
    "\n",
    "fig, ax = plt.subplots()\n",
    "ax.plot(averages.index, averages.mean(axis=1))\n",
    "\n",
    "ax.set(\n",
    "    xlabel=\"deletion\",\n",
    "    ylabel=\"avg probability\",\n",
    "    title=\"Avg proba of predicting all class labels\",\n",
    ")\n",
    "ax.grid()\n",
    "\n",
    "plt.show()"
   ]
  },
  {
   "cell_type": "markdown",
   "metadata": {},
   "source": [
    "### Individual instances"
   ]
  },
  {
   "cell_type": "code",
   "execution_count": null,
   "metadata": {},
   "outputs": [],
   "source": [
    "my_class = 7\n",
    "\n",
    "for i, my_index in enumerate(index[my_class]):\n",
    "    start = perf_counter()\n",
    "    testpoint = oab.TestPoint(X_test[my_index], my_dom)\n",
    "    logging.info(f\"start explanation of index {my_index}\")\n",
    "    exp = oab.Explainer(testpoint, howmany=5)\n",
    "\n",
    "    end = perf_counter()\n",
    "    execution_time = end - start\n",
    "\n",
    "    # if we failed to find a target\n",
    "    if exp.target:\n",
    "        crules = len(exp.target.latentdt.counterrules)\n",
    "        mymap = exp.get_map()\n",
    "        experiment = oab.DeletionExperiment(exp, mymap)\n",
    "        myres[my_index] = experiment.results\n",
    "    else:\n",
    "        crules = \"error\"\n",
    "\n",
    "    # append into results_table\n",
    "    results_table.append(\n",
    "        {\n",
    "            \"Dataset\": dataset_name,\n",
    "            \"Algo\": algo_name,\n",
    "            \"Class\": my_class,\n",
    "            \"id\": my_index,\n",
    "            \"Time\": round(execution_time, 2),\n",
    "            \"factuals / 5\": len(exp.factuals),\n",
    "            \"cfact\": len(exp.counterfactuals),\n",
    "            \"crules\": crules,\n",
    "        }\n",
    "    )\n",
    "    if i >= how_many_images - 1:\n",
    "        # how many points to do per class\n",
    "        break"
   ]
  },
  {
   "cell_type": "code",
   "execution_count": null,
   "metadata": {},
   "outputs": [],
   "source": [
    "# plot\n",
    "\n",
    "print(\"for test\", exp.testpoint.latent.a)\n",
    "plt.imshow(exp.testpoint.a.astype(\"uint8\"), cmap=\"gray\")\n",
    "plt.title(\n",
    "    f\"TestPoint - black box predicted class: {exp.testpoint.blackboxpd.predicted_class}\"\n",
    ")\n",
    "plt.show()\n",
    "\n",
    "print(\"for treepoint\", exp.target.latent.a)\n",
    "plt.imshow(exp.target.a.astype(\"uint8\"), cmap=\"gray\")\n",
    "plt.title(\n",
    "    f\"TreePoint - black box predicted class: {exp.target.blackboxpd.predicted_class}\"\n",
    ")\n",
    "plt.show()\n",
    "\n",
    "print(\"counterrules\")\n",
    "print(exp.target.latentdt.counterrules)\n",
    "\n",
    "print(\"for this target treepoint:\")\n",
    "print(exp.target)\n",
    "print(\"# factuals\")\n",
    "for point in exp.factuals:\n",
    "    plt.imshow(point.a.astype(\"uint8\"), cmap=\"gray\")\n",
    "    plt.title(\n",
    "        f\"factual - black box predicted class: {point.blackboxpd.predicted_class}\"\n",
    "    )\n",
    "    plt.show()\n",
    "print(\"## factuals BUT closest, instead of furthest\")\n",
    "for point in exp._factuals_default(closest=True):\n",
    "    plt.imshow(point.a.astype(\"uint8\"), cmap=\"gray\")\n",
    "    plt.title(\n",
    "        f\"factual - black box predicted class: {point.blackboxpd.predicted_class}\"\n",
    "    )\n",
    "    plt.show()\n",
    "print(\"# counterfactuals\")\n",
    "for point in exp.counterfactuals:\n",
    "    plt.imshow(point.a.astype(\"uint8\"), cmap=\"gray\")\n",
    "    plt.title(\n",
    "        f\"counterfactual - black box predicted class: {point.blackboxpd.predicted_class}\"\n",
    "    )\n",
    "    plt.show()\n",
    "\n",
    "print(\"## New method for **more** counterfactuals!\")\n",
    "for point in exp.more_counterfactuals():\n",
    "    # this is generating right here the \"more\" counterfactuals\n",
    "    plt.imshow(point.a.astype(\"uint8\"), cmap=\"gray\")\n",
    "    plt.title(\n",
    "        f\"counterfactual - black box predicted class: {point.blackboxpd.predicted_class}\"\n",
    "    )\n",
    "    plt.show()"
   ]
  }
 ],
 "metadata": {
  "kernelspec": {
   "display_name": "venv",
   "language": "python",
   "name": "python3"
  },
  "language_info": {
   "codemirror_mode": {
    "name": "ipython",
    "version": 3
   },
   "file_extension": ".py",
   "mimetype": "text/x-python",
   "name": "python",
   "nbconvert_exporter": "python",
   "pygments_lexer": "ipython3",
   "version": "3.11.6"
  }
 },
 "nbformat": 4,
 "nbformat_minor": 2
}
