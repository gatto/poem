{
 "cells": [
  {
   "cell_type": "code",
   "execution_count": null,
   "metadata": {},
   "outputs": [],
   "source": [
    "import logging\n",
    "logging.basicConfig(\n",
    "    filename=\"./data/mnist-oab-exp-third-exp.log\",\n",
    "    filemode=\"a\",\n",
    "    format=\"%(asctime)s,%(msecs)d %(name)s %(levelname)s %(message)s\",\n",
    "    datefmt=\"%H:%M:%S\",\n",
    "    level=logging.INFO,\n",
    ")\n",
    "import pickle\n",
    "import oab\n",
    "import numpy as np\n",
    "from rich import print\n",
    "import matplotlib.pyplot as plt\n",
    "\n",
    "(X_train, Y_train), (X_test, Y_test), (X_tree, Y_tree) = oab.get_data()\n",
    "my_dom = oab.Domain(\"mnist\")\n",
    "index = {}\n",
    "points = {}\n",
    "for my_class in range(10):\n",
    "    index[my_class] = np.where(Y_test == my_class)[0]"
   ]
  },
  {
   "cell_type": "code",
   "execution_count": null,
   "metadata": {},
   "outputs": [],
   "source": [
    "my_dom.load()"
   ]
  },
  {
   "cell_type": "code",
   "execution_count": null,
   "metadata": {},
   "outputs": [],
   "source": [
    "how_many_classes_todo = 1\n",
    "class_to_work = 0"
   ]
  },
  {
   "cell_type": "code",
   "execution_count": null,
   "metadata": {},
   "outputs": [],
   "source": [
    "for my_class in range(class_to_work, class_to_work + how_many_classes_todo):\n",
    "    print(f\"There are {len(index[my_class])} points with class {my_class} in the test set\")\n",
    "    for my_index in index[my_class]:\n",
    "        testpoint = oab.TestPoint(X_test[my_index], my_dom)\n",
    "        logging.info(f\"start explanation of index {my_index}\")\n",
    "        exp = oab.Explainer(testpoint, howmany=10)\n",
    "        if testpoint in exp.target.latentdt.rule:\n",
    "            try:\n",
    "                points[my_class].append(exp)\n",
    "            except KeyError:\n",
    "                points[my_class] = [exp]\n",
    "            print(\"nice\")\n",
    "            if len(points[my_class]) >= 3:\n",
    "                # how many points to do per class\n",
    "                break"
   ]
  },
  {
   "cell_type": "code",
   "execution_count": null,
   "metadata": {},
   "outputs": [],
   "source": [
    "for my_class in range(class_to_work, class_to_work + how_many_classes_todo):\n",
    "    print(f\"showing class {my_class}\")\n",
    "    for explainer in points[my_class]:\n",
    "        print(\"for test\", explainer.testpoint.latent.a)\n",
    "        print(f\"for record\")\n",
    "        print(explainer.target)\n",
    "        print(\"factuals\")\n",
    "        for point in explainer.factuals:\n",
    "            plt.imshow(point.a.astype(\"uint8\"), cmap=\"gray\")\n",
    "            plt.title(f\"factual - black box predicted class: {point.blackboxpd.predicted_class}\")\n",
    "            plt.show()\n",
    "        print(\"counterfactuals\")\n",
    "        for point in explainer.counterfactuals:\n",
    "            plt.imshow(point.a.astype(\"uint8\"), cmap=\"gray\")\n",
    "            plt.title(f\"counterfactual - black box predicted class: {point.blackboxpd.predicted_class}\")\n",
    "            plt.show()"
   ]
  }
 ],
 "metadata": {
  "language_info": {
   "name": "python"
  },
  "orig_nbformat": 4
 },
 "nbformat": 4,
 "nbformat_minor": 2
}
